{
 "cells": [
  {
   "cell_type": "markdown",
   "metadata": {},
   "source": [
    "### Importamos lo necesario"
   ]
  },
  {
   "cell_type": "code",
   "execution_count": 1,
   "metadata": {},
   "outputs": [],
   "source": [
    "import requests\n",
    "import io\n",
    "from bs4 import BeautifulSoup\n",
    "from PyPDF2 import PdfFileReader\n",
    "import pandas as pd\n",
    "import utils_araucania"
   ]
  },
  {
   "cell_type": "markdown",
   "metadata": {},
   "source": [
    "## Leemos el último dato"
   ]
  },
  {
   "cell_type": "code",
   "execution_count": 2,
   "metadata": {},
   "outputs": [
    {
     "data": {
      "text/html": [
       "<div>\n",
       "<style scoped>\n",
       "    .dataframe tbody tr th:only-of-type {\n",
       "        vertical-align: middle;\n",
       "    }\n",
       "\n",
       "    .dataframe tbody tr th {\n",
       "        vertical-align: top;\n",
       "    }\n",
       "\n",
       "    .dataframe thead th {\n",
       "        text-align: right;\n",
       "    }\n",
       "</style>\n",
       "<table border=\"1\" class=\"dataframe\">\n",
       "  <thead>\n",
       "    <tr style=\"text-align: right;\">\n",
       "      <th></th>\n",
       "      <th>Fecha</th>\n",
       "      <th>Angol</th>\n",
       "      <th>Carahue</th>\n",
       "      <th>Chol-Chol</th>\n",
       "      <th>Collipulli</th>\n",
       "      <th>Cunco</th>\n",
       "      <th>Curacautín</th>\n",
       "      <th>Curarrehue</th>\n",
       "      <th>Ercilla</th>\n",
       "      <th>Freire</th>\n",
       "      <th>...</th>\n",
       "      <th>Purén</th>\n",
       "      <th>Renaico</th>\n",
       "      <th>Saavedra</th>\n",
       "      <th>Temuco</th>\n",
       "      <th>Teodoro Schmidt</th>\n",
       "      <th>Toltén</th>\n",
       "      <th>Traiguén</th>\n",
       "      <th>Victoria</th>\n",
       "      <th>Vilcún</th>\n",
       "      <th>Villarrica</th>\n",
       "    </tr>\n",
       "  </thead>\n",
       "  <tbody>\n",
       "    <tr>\n",
       "      <td>85</td>\n",
       "      <td>10 de Junio</td>\n",
       "      <td>206</td>\n",
       "      <td>68</td>\n",
       "      <td>22</td>\n",
       "      <td>34</td>\n",
       "      <td>40</td>\n",
       "      <td>9</td>\n",
       "      <td>4</td>\n",
       "      <td>16</td>\n",
       "      <td>85</td>\n",
       "      <td>...</td>\n",
       "      <td>8</td>\n",
       "      <td>26</td>\n",
       "      <td>92</td>\n",
       "      <td>849</td>\n",
       "      <td>10</td>\n",
       "      <td>16</td>\n",
       "      <td>19</td>\n",
       "      <td>123</td>\n",
       "      <td>95</td>\n",
       "      <td>34</td>\n",
       "    </tr>\n",
       "    <tr>\n",
       "      <td>86</td>\n",
       "      <td>11 de Junio</td>\n",
       "      <td>214</td>\n",
       "      <td>68</td>\n",
       "      <td>22</td>\n",
       "      <td>34</td>\n",
       "      <td>45</td>\n",
       "      <td>10</td>\n",
       "      <td>4</td>\n",
       "      <td>16</td>\n",
       "      <td>87</td>\n",
       "      <td>...</td>\n",
       "      <td>8</td>\n",
       "      <td>26</td>\n",
       "      <td>92</td>\n",
       "      <td>852</td>\n",
       "      <td>10</td>\n",
       "      <td>16</td>\n",
       "      <td>19</td>\n",
       "      <td>125</td>\n",
       "      <td>98</td>\n",
       "      <td>37</td>\n",
       "    </tr>\n",
       "    <tr>\n",
       "      <td>87</td>\n",
       "      <td>12 de Junio</td>\n",
       "      <td>224</td>\n",
       "      <td>68</td>\n",
       "      <td>24</td>\n",
       "      <td>34</td>\n",
       "      <td>44</td>\n",
       "      <td>10</td>\n",
       "      <td>4</td>\n",
       "      <td>16</td>\n",
       "      <td>91</td>\n",
       "      <td>...</td>\n",
       "      <td>8</td>\n",
       "      <td>26</td>\n",
       "      <td>92</td>\n",
       "      <td>852</td>\n",
       "      <td>10</td>\n",
       "      <td>16</td>\n",
       "      <td>21</td>\n",
       "      <td>133</td>\n",
       "      <td>98</td>\n",
       "      <td>40</td>\n",
       "    </tr>\n",
       "    <tr>\n",
       "      <td>88</td>\n",
       "      <td>13 de Junio</td>\n",
       "      <td>242</td>\n",
       "      <td>68</td>\n",
       "      <td>24</td>\n",
       "      <td>36</td>\n",
       "      <td>47</td>\n",
       "      <td>11</td>\n",
       "      <td>4</td>\n",
       "      <td>18</td>\n",
       "      <td>92</td>\n",
       "      <td>...</td>\n",
       "      <td>8</td>\n",
       "      <td>26</td>\n",
       "      <td>95</td>\n",
       "      <td>861</td>\n",
       "      <td>10</td>\n",
       "      <td>16</td>\n",
       "      <td>26</td>\n",
       "      <td>138</td>\n",
       "      <td>100</td>\n",
       "      <td>43</td>\n",
       "    </tr>\n",
       "    <tr>\n",
       "      <td>89</td>\n",
       "      <td>14 de Junio</td>\n",
       "      <td>248</td>\n",
       "      <td>68</td>\n",
       "      <td>24</td>\n",
       "      <td>37</td>\n",
       "      <td>47</td>\n",
       "      <td>11</td>\n",
       "      <td>4</td>\n",
       "      <td>18</td>\n",
       "      <td>94</td>\n",
       "      <td>...</td>\n",
       "      <td>8</td>\n",
       "      <td>27</td>\n",
       "      <td>95</td>\n",
       "      <td>863</td>\n",
       "      <td>10</td>\n",
       "      <td>16</td>\n",
       "      <td>26</td>\n",
       "      <td>139</td>\n",
       "      <td>100</td>\n",
       "      <td>47</td>\n",
       "    </tr>\n",
       "  </tbody>\n",
       "</table>\n",
       "<p>5 rows × 33 columns</p>\n",
       "</div>"
      ],
      "text/plain": [
       "          Fecha  Angol  Carahue  Chol-Chol  Collipulli  Cunco  Curacautín  \\\n",
       "85  10 de Junio    206       68         22          34     40           9   \n",
       "86  11 de Junio    214       68         22          34     45          10   \n",
       "87  12 de Junio    224       68         24          34     44          10   \n",
       "88  13 de Junio    242       68         24          36     47          11   \n",
       "89  14 de Junio    248       68         24          37     47          11   \n",
       "\n",
       "    Curarrehue  Ercilla  Freire  ...  Purén  Renaico  Saavedra  Temuco  \\\n",
       "85           4       16      85  ...      8       26        92     849   \n",
       "86           4       16      87  ...      8       26        92     852   \n",
       "87           4       16      91  ...      8       26        92     852   \n",
       "88           4       18      92  ...      8       26        95     861   \n",
       "89           4       18      94  ...      8       27        95     863   \n",
       "\n",
       "    Teodoro Schmidt  Toltén  Traiguén  Victoria  Vilcún  Villarrica  \n",
       "85               10      16        19       123      95          34  \n",
       "86               10      16        19       125      98          37  \n",
       "87               10      16        21       133      98          40  \n",
       "88               10      16        26       138     100          43  \n",
       "89               10      16        26       139     100          47  \n",
       "\n",
       "[5 rows x 33 columns]"
      ]
     },
     "execution_count": 2,
     "metadata": {},
     "output_type": "execute_result"
    }
   ],
   "source": [
    "araucania = pd.read_csv(\"output/araucania.csv\")\n",
    "araucania.tail()"
   ]
  },
  {
   "cell_type": "code",
   "execution_count": 3,
   "metadata": {},
   "outputs": [
    {
     "data": {
      "text/plain": [
       "'14 de Junio'"
      ]
     },
     "execution_count": 3,
     "metadata": {},
     "output_type": "execute_result"
    }
   ],
   "source": [
    "ultima_fecha = araucania.tail(1)[\"Fecha\"].values.tolist()\n",
    "ultima_fecha = ultima_fecha[0]\n",
    "ultima_fecha"
   ]
  },
  {
   "cell_type": "markdown",
   "metadata": {},
   "source": [
    "## Capturamos todos los informes"
   ]
  },
  {
   "cell_type": "code",
   "execution_count": 4,
   "metadata": {},
   "outputs": [],
   "source": [
    "URL = 'https://seremi9.redsalud.gob.cl/accion-sanitaria-3/registros-covid19/'\n",
    "page = requests.get(URL) #Obtenemos la respuesta del servidor"
   ]
  },
  {
   "cell_type": "code",
   "execution_count": 5,
   "metadata": {},
   "outputs": [],
   "source": [
    "soup      = BeautifulSoup(page.content, 'html.parser')  #Transformamos a un objeto soup\n",
    "job_elems = soup.find_all('ol')                    # Buscamos todos los elementos \"ol\"\n",
    "\n",
    "for job_elem in job_elems:                         # Recorremos\n",
    "    enlaces = job_elem.find_all('a')               # Buscamos los enlaces de ahí"
   ]
  },
  {
   "cell_type": "code",
   "execution_count": 6,
   "metadata": {},
   "outputs": [],
   "source": [
    "reportes_diarios = []\n",
    "falta_informe    = False\n",
    "base_url         = \"https://seremi9.redsalud.gob.cl\"\n",
    "\n",
    "for enlace in enlaces:                            # Recorremos los enlaces\n",
    "    fecha  = enlace.text                          # obtenemos el texto\n",
    "    enlace = enlace['href']                       # obtenemos el enlace\n",
    "    url    = base_url + enlace\n",
    "    \n",
    "    \n",
    "    if falta_informe:\n",
    "        dato   = {'fecha': fecha, 'url':url}\n",
    "        reportes_diarios.append(dato)\n",
    "    \n",
    "    if fecha == ultima_fecha:\n",
    "        falta_informe = True"
   ]
  },
  {
   "cell_type": "code",
   "execution_count": 7,
   "metadata": {},
   "outputs": [
    {
     "data": {
      "text/plain": [
       "[{'fecha': '15 de Junio',\n",
       "  'url': 'https://seremi9.redsalud.gob.cl/wrdprss_minsal/wp-content/uploads/2020/06/COMUNICADO-DE-PRENSA-15.05.pdf'}]"
      ]
     },
     "execution_count": 7,
     "metadata": {},
     "output_type": "execute_result"
    }
   ],
   "source": [
    "reportes_diarios"
   ]
  },
  {
   "cell_type": "markdown",
   "metadata": {},
   "source": [
    "## Traemos los informes faltantes"
   ]
  },
  {
   "cell_type": "code",
   "execution_count": 8,
   "metadata": {},
   "outputs": [
    {
     "name": "stdout",
     "output_type": "stream",
     "text": [
      "Obteniendo información del: 15 de Junio\n",
      "['                                    ', 'COMUNICADO DE PRENSA', ' ', '2.', '728', ' ', 'son', ' ', 'los casos confirmados de', ' ', 'COVID', '-', ' ', '19 en La Araucanía', '.', ' ', 'Lunes 15', ' ', 'de ', 'junio', ' ', '2020. ', 'Durante ', 'el ', 'día ayer fueron', ' ', '53', ' ', 'los', ' ', 'nuevos c', 'asos ', 'confirmados ', 'de COVID', '-', ' ', '19 ', 'en la región. ', 'Estos nuevos casos sumados a los confirmados anteriormente, nos entregan la ', 'siguiente distribución comunal:', ' ', 'Comuna de ', 'residencia', ' ', 'N° de casos', ' ', ' ', ' ', 'Casos nuevos', ' ', ' ', ' ', 'Casos activos', ' ', 'Angol', ' ', '2', '59', ' ', '11', ' ', '84', ' ', 'Carahue', ' ', '68', ' ', '-', ' ', '5', ' ', 'Chol', '-', 'Chol', ' ', '24', ' ', '-', ' ', '6', ' ', 'Collipulli', ' ', '37', ' ', '-', ' ', '7', ' ', 'Cunco', ' ', '4', '8', ' ', '1', ' ', '16', ' ', 'Curacautín', ' ', '1', '8', ' ', '7', ' ', '9', ' ', 'Curarrehue', ' ', '4', ' ', '-', ' ', '-', ' ', 'Ercilla', ' ', '1', '8', ' ', '-', ' ', '2', ' ', 'Freire', ' ', '9', '5', ' ', '1', ' ', '22', ' ', 'Galvarino', ' ', '97', ' ', '-', ' ', '45', ' ', 'Gorbea', ' ', '3', '2', ' ', '2', ' ', '8', ' ', 'Lautaro', ' ', '9', '9', ' ', '1', ' ', '14', ' ', 'Loncoche', ' ', '49', ' ', '-', ' ', '2', ' ', 'Lonquimay', ' ', '66', ' ', '-', ' ', '-', ' ', 'Los Sauces', ' ', '7', ' ', '-', ' ', '2', ' ', 'Lumaco', ' ', '15', ' ', '-', ' ', '2', ' ', 'Melipeuco', ' ', '8', ' ', '-', ' ', '1', ' ', 'Nueva ', 'Imperial', ' ', '90', ' ', '3', ' ', '33', ' ', 'Padre Las Casas', ' ', '1', '6', '8', ' ', '1', ' ', '4', ' ', 'Perquenco', ' ', '15', ' ', '-', ' ', '7', ' ', 'Pitrufquén', ' ', '6', '8', ' ', '1', ' ', '10', ' ', 'Pucón', ' ', '5', '9', ' ', '2', ' ', '12', ' ', 'Purén', ' ', '9', ' ', '1', ' ', '1', ' ', 'Renaico', ' ', '27', ' ', '-', ' ', '2', ' ', 'Saavedra', ' ', '95', ' ', '-', ' ', '8', ' ', 'Temuco', ' ', '86', '5', ' ', '2', ' ', '29', ' ', 'Teodoro Schmidt', ' ', '1', '1', ' ', '1', ' ', '1', ' ', 'Toltén', ' ', '16', ' ', '-', ' ', '-', ' ', 'Traiguén', ' ', '2', '7', ' ', '1', ' ', '12', ' ', 'Victoria', ' ', '1', '52', ' ', '13', ' ', '38', ' ', 'Vilcún', ' ', '100', ' ', '-', ' ', '8', ' ', 'Villarrica', ' ', '4', '8', ' ', '1', ' ', '14', ' ', '']\n"
     ]
    },
    {
     "ename": "ValueError",
     "evalue": "'Total General' is not in list",
     "output_type": "error",
     "traceback": [
      "\u001b[0;31m---------------------------------------------------------------------------\u001b[0m",
      "\u001b[0;31mValueError\u001b[0m                                Traceback (most recent call last)",
      "\u001b[0;32m<ipython-input-8-bfa93aa1cba4>\u001b[0m in \u001b[0;36m<module>\u001b[0;34m\u001b[0m\n\u001b[1;32m      1\u001b[0m \u001b[0;32mif\u001b[0m \u001b[0mlen\u001b[0m\u001b[0;34m(\u001b[0m\u001b[0mreportes_diarios\u001b[0m\u001b[0;34m)\u001b[0m\u001b[0;34m>\u001b[0m\u001b[0;36m0\u001b[0m\u001b[0;34m:\u001b[0m\u001b[0;34m\u001b[0m\u001b[0;34m\u001b[0m\u001b[0m\n\u001b[0;32m----> 2\u001b[0;31m     \u001b[0mciudades\u001b[0m \u001b[0;34m=\u001b[0m \u001b[0mutils_araucania\u001b[0m\u001b[0;34m.\u001b[0m\u001b[0mget_citys\u001b[0m\u001b[0;34m(\u001b[0m\u001b[0mreportes_diarios\u001b[0m\u001b[0;34m[\u001b[0m\u001b[0;36m0\u001b[0m\u001b[0;34m]\u001b[0m\u001b[0;34m[\u001b[0m\u001b[0;34m'fecha'\u001b[0m\u001b[0;34m]\u001b[0m\u001b[0;34m,\u001b[0m \u001b[0mreportes_diarios\u001b[0m\u001b[0;34m[\u001b[0m\u001b[0;36m0\u001b[0m\u001b[0;34m]\u001b[0m\u001b[0;34m[\u001b[0m\u001b[0;34m'url'\u001b[0m\u001b[0;34m]\u001b[0m\u001b[0;34m)\u001b[0m\u001b[0;34m\u001b[0m\u001b[0;34m\u001b[0m\u001b[0m\n\u001b[0m\u001b[1;32m      3\u001b[0m \u001b[0;32melse\u001b[0m\u001b[0;34m:\u001b[0m\u001b[0;34m\u001b[0m\u001b[0;34m\u001b[0m\u001b[0m\n\u001b[1;32m      4\u001b[0m     \u001b[0mprint\u001b[0m \u001b[0;34m(\u001b[0m\u001b[0;34m\"Todo Ok...\"\u001b[0m\u001b[0;34m)\u001b[0m\u001b[0;34m\u001b[0m\u001b[0;34m\u001b[0m\u001b[0m\n",
      "\u001b[0;32m~/Covid19 - Chile/GItHub/Covid-19-Chile/Araucania/utils_araucania.py\u001b[0m in \u001b[0;36mget_citys\u001b[0;34m(fecha, url)\u001b[0m\n\u001b[1;32m     69\u001b[0m \u001b[0;32mdef\u001b[0m \u001b[0mget_citys\u001b[0m\u001b[0;34m(\u001b[0m\u001b[0mfecha\u001b[0m\u001b[0;34m,\u001b[0m \u001b[0murl\u001b[0m\u001b[0;34m)\u001b[0m\u001b[0;34m:\u001b[0m\u001b[0;34m\u001b[0m\u001b[0;34m\u001b[0m\u001b[0m\n\u001b[1;32m     70\u001b[0m     \u001b[0mciudades\u001b[0m \u001b[0;34m=\u001b[0m \u001b[0;34m[\u001b[0m\u001b[0;34m'Fecha'\u001b[0m\u001b[0;34m]\u001b[0m\u001b[0;34m\u001b[0m\u001b[0;34m\u001b[0m\u001b[0m\n\u001b[0;32m---> 71\u001b[0;31m     \u001b[0mdata\u001b[0m     \u001b[0;34m=\u001b[0m \u001b[0mget_info\u001b[0m\u001b[0;34m(\u001b[0m\u001b[0mfecha\u001b[0m\u001b[0;34m,\u001b[0m \u001b[0murl\u001b[0m\u001b[0;34m)\u001b[0m\u001b[0;34m\u001b[0m\u001b[0;34m\u001b[0m\u001b[0m\n\u001b[0m\u001b[1;32m     72\u001b[0m     \u001b[0;32mfor\u001b[0m \u001b[0md\u001b[0m \u001b[0;32min\u001b[0m \u001b[0mdata\u001b[0m\u001b[0;34m:\u001b[0m\u001b[0;34m\u001b[0m\u001b[0;34m\u001b[0m\u001b[0m\n\u001b[1;32m     73\u001b[0m         \u001b[0;32mif\u001b[0m \u001b[0mis_city\u001b[0m\u001b[0;34m(\u001b[0m\u001b[0md\u001b[0m\u001b[0;34m)\u001b[0m\u001b[0;34m:\u001b[0m\u001b[0;34m\u001b[0m\u001b[0;34m\u001b[0m\u001b[0m\n",
      "\u001b[0;32m~/Covid19 - Chile/GItHub/Covid-19-Chile/Araucania/utils_araucania.py\u001b[0m in \u001b[0;36mget_info\u001b[0;34m(fecha, url)\u001b[0m\n\u001b[1;32m     16\u001b[0m     \u001b[0;31m#Filtramos e iteramos los datos\u001b[0m\u001b[0;34m\u001b[0m\u001b[0;34m\u001b[0m\u001b[0;34m\u001b[0m\u001b[0m\n\u001b[1;32m     17\u001b[0m     \u001b[0mpos_ini\u001b[0m   \u001b[0;34m=\u001b[0m \u001b[0mcontenido\u001b[0m\u001b[0;34m.\u001b[0m\u001b[0mindex\u001b[0m\u001b[0;34m(\u001b[0m\u001b[0;34m'Angol'\u001b[0m\u001b[0;34m)\u001b[0m\u001b[0;34m\u001b[0m\u001b[0;34m\u001b[0m\u001b[0m\n\u001b[0;32m---> 18\u001b[0;31m     \u001b[0mpos_fin\u001b[0m   \u001b[0;34m=\u001b[0m \u001b[0mcontenido\u001b[0m\u001b[0;34m.\u001b[0m\u001b[0mindex\u001b[0m\u001b[0;34m(\u001b[0m\u001b[0;34m'Total General'\u001b[0m\u001b[0;34m)\u001b[0m\u001b[0;34m\u001b[0m\u001b[0;34m\u001b[0m\u001b[0m\n\u001b[0m\u001b[1;32m     19\u001b[0m \u001b[0;34m\u001b[0m\u001b[0m\n\u001b[1;32m     20\u001b[0m     \u001b[0mcontenido\u001b[0m \u001b[0;34m=\u001b[0m \u001b[0mcontenido\u001b[0m\u001b[0;34m[\u001b[0m\u001b[0mpos_ini\u001b[0m\u001b[0;34m:\u001b[0m\u001b[0mpos_fin\u001b[0m\u001b[0;34m]\u001b[0m                  \u001b[0;31m# Filtramos con los datos que queremos\u001b[0m\u001b[0;34m\u001b[0m\u001b[0;34m\u001b[0m\u001b[0m\n",
      "\u001b[0;31mValueError\u001b[0m: 'Total General' is not in list"
     ]
    }
   ],
   "source": [
    "if len(reportes_diarios)>0:\n",
    "    ciudades = utils_araucania.get_citys(reportes_diarios[0]['fecha'], reportes_diarios[0]['url'])\n",
    "else:\n",
    "    print (\"Todo Ok...\")"
   ]
  },
  {
   "cell_type": "code",
   "execution_count": 25,
   "metadata": {},
   "outputs": [
    {
     "name": "stdout",
     "output_type": "stream",
     "text": [
      "Obteniendo información del: 12 de Junio\n",
      "Obteniendo información del: 13 de Junio\n",
      "Obteniendo información del: 14 de Junio\n",
      "Obteniendo información del: 15 de Junio\n"
     ]
    },
    {
     "ename": "ValueError",
     "evalue": "'Total General' is not in list",
     "output_type": "error",
     "traceback": [
      "\u001b[0;31m---------------------------------------------------------------------------\u001b[0m",
      "\u001b[0;31mValueError\u001b[0m                                Traceback (most recent call last)",
      "\u001b[0;32m<ipython-input-25-e94aa78baff8>\u001b[0m in \u001b[0;36m<module>\u001b[0;34m\u001b[0m\n\u001b[1;32m      1\u001b[0m \u001b[0;32mif\u001b[0m \u001b[0mlen\u001b[0m\u001b[0;34m(\u001b[0m\u001b[0mreportes_diarios\u001b[0m\u001b[0;34m)\u001b[0m\u001b[0;34m>\u001b[0m\u001b[0;36m0\u001b[0m\u001b[0;34m:\u001b[0m\u001b[0;34m\u001b[0m\u001b[0;34m\u001b[0m\u001b[0m\n\u001b[1;32m      2\u001b[0m     \u001b[0;32mfor\u001b[0m \u001b[0mr\u001b[0m \u001b[0;32min\u001b[0m \u001b[0mreportes_diarios\u001b[0m\u001b[0;34m:\u001b[0m\u001b[0;34m\u001b[0m\u001b[0;34m\u001b[0m\u001b[0m\n\u001b[0;32m----> 3\u001b[0;31m         \u001b[0mtexto\u001b[0m     \u001b[0;34m=\u001b[0m \u001b[0mutils_araucania\u001b[0m\u001b[0;34m.\u001b[0m\u001b[0mget_info\u001b[0m\u001b[0;34m(\u001b[0m\u001b[0mr\u001b[0m\u001b[0;34m[\u001b[0m\u001b[0;34m'fecha'\u001b[0m\u001b[0;34m]\u001b[0m\u001b[0;34m,\u001b[0m \u001b[0mr\u001b[0m\u001b[0;34m[\u001b[0m\u001b[0;34m'url'\u001b[0m\u001b[0;34m]\u001b[0m\u001b[0;34m)\u001b[0m       \u001b[0;31m# Obtenemos el texto de la primera pagina del informe\u001b[0m\u001b[0;34m\u001b[0m\u001b[0;34m\u001b[0m\u001b[0m\n\u001b[0m\u001b[1;32m      4\u001b[0m         \u001b[0mdata\u001b[0m      \u001b[0;34m=\u001b[0m \u001b[0mutils_araucania\u001b[0m\u001b[0;34m.\u001b[0m\u001b[0mget_data\u001b[0m\u001b[0;34m(\u001b[0m\u001b[0mtexto\u001b[0m\u001b[0;34m,\u001b[0m \u001b[0mr\u001b[0m\u001b[0;34m[\u001b[0m\u001b[0;34m'fecha'\u001b[0m\u001b[0;34m]\u001b[0m\u001b[0;34m)\u001b[0m          \u001b[0;31m# Obtenemos la data\u001b[0m\u001b[0;34m\u001b[0m\u001b[0;34m\u001b[0m\u001b[0m\n\u001b[1;32m      5\u001b[0m         \u001b[0maraucania\u001b[0m\u001b[0;34m.\u001b[0m\u001b[0mloc\u001b[0m\u001b[0;34m[\u001b[0m\u001b[0mlen\u001b[0m\u001b[0;34m(\u001b[0m\u001b[0maraucania\u001b[0m\u001b[0;34m)\u001b[0m\u001b[0;34m]\u001b[0m \u001b[0;34m=\u001b[0m \u001b[0mdata\u001b[0m             \u001b[0;31m# Creamos el data frame\u001b[0m\u001b[0;34m\u001b[0m\u001b[0;34m\u001b[0m\u001b[0m\n",
      "\u001b[0;32m~/Covid19 - Chile/GItHub/Covid-19-Chile/Araucania/utils_araucania.py\u001b[0m in \u001b[0;36mget_info\u001b[0;34m(fecha, url)\u001b[0m\n\u001b[1;32m     16\u001b[0m     \u001b[0;31m#Filtramos e iteramos los datos\u001b[0m\u001b[0;34m\u001b[0m\u001b[0;34m\u001b[0m\u001b[0;34m\u001b[0m\u001b[0m\n\u001b[1;32m     17\u001b[0m     \u001b[0mpos_ini\u001b[0m   \u001b[0;34m=\u001b[0m \u001b[0mcontenido\u001b[0m\u001b[0;34m.\u001b[0m\u001b[0mindex\u001b[0m\u001b[0;34m(\u001b[0m\u001b[0;34m'Angol'\u001b[0m\u001b[0;34m)\u001b[0m\u001b[0;34m\u001b[0m\u001b[0;34m\u001b[0m\u001b[0m\n\u001b[0;32m---> 18\u001b[0;31m     \u001b[0mpos_fin\u001b[0m   \u001b[0;34m=\u001b[0m \u001b[0mcontenido\u001b[0m\u001b[0;34m.\u001b[0m\u001b[0mindex\u001b[0m\u001b[0;34m(\u001b[0m\u001b[0;34m'Total General'\u001b[0m\u001b[0;34m)\u001b[0m\u001b[0;34m\u001b[0m\u001b[0;34m\u001b[0m\u001b[0m\n\u001b[0m\u001b[1;32m     19\u001b[0m \u001b[0;34m\u001b[0m\u001b[0m\n\u001b[1;32m     20\u001b[0m     \u001b[0mcontenido\u001b[0m \u001b[0;34m=\u001b[0m \u001b[0mcontenido\u001b[0m\u001b[0;34m[\u001b[0m\u001b[0mpos_ini\u001b[0m\u001b[0;34m:\u001b[0m\u001b[0mpos_fin\u001b[0m\u001b[0;34m]\u001b[0m                  \u001b[0;31m# Filtramos con los datos que queremos\u001b[0m\u001b[0;34m\u001b[0m\u001b[0;34m\u001b[0m\u001b[0m\n",
      "\u001b[0;31mValueError\u001b[0m: 'Total General' is not in list"
     ]
    }
   ],
   "source": [
    "if len(reportes_diarios)>0:\n",
    "    for r in reportes_diarios:\n",
    "        texto     = utils_araucania.get_info(r['fecha'], r['url'])       # Obtenemos el texto de la primera pagina del informe\n",
    "        data      = utils_araucania.get_data(texto, r['fecha'])          # Obtenemos la data\n",
    "        araucania.loc[len(araucania)] = data             # Creamos el data frame\n",
    "else:\n",
    "    print (\"Todo Ok..\")"
   ]
  },
  {
   "cell_type": "code",
   "execution_count": null,
   "metadata": {},
   "outputs": [],
   "source": []
  }
 ],
 "metadata": {
  "kernelspec": {
   "display_name": "Python 3",
   "language": "python",
   "name": "python3"
  },
  "language_info": {
   "codemirror_mode": {
    "name": "ipython",
    "version": 3
   },
   "file_extension": ".py",
   "mimetype": "text/x-python",
   "name": "python",
   "nbconvert_exporter": "python",
   "pygments_lexer": "ipython3",
   "version": "3.7.4"
  }
 },
 "nbformat": 4,
 "nbformat_minor": 2
}
