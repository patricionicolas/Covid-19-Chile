{
 "cells": [
  {
   "cell_type": "markdown",
   "metadata": {},
   "source": [
    "# Obtenemos la primera información de toda la región de la Araucania"
   ]
  },
  {
   "cell_type": "code",
   "execution_count": 1,
   "metadata": {},
   "outputs": [],
   "source": [
    "import requests\n",
    "import io\n",
    "from bs4 import BeautifulSoup\n",
    "from PyPDF2 import PdfFileReader\n",
    "import pandas as pd"
   ]
  },
  {
   "cell_type": "markdown",
   "metadata": {},
   "source": [
    "## Obtendremos los enlaces y fechas para cada reporte"
   ]
  },
  {
   "cell_type": "code",
   "execution_count": 2,
   "metadata": {},
   "outputs": [],
   "source": [
    "URL = 'https://seremi9.redsalud.gob.cl/accion-sanitaria-3/registros-covid19/'\n",
    "page = requests.get(URL) #Obtenemos la respuesta del servidor"
   ]
  },
  {
   "cell_type": "code",
   "execution_count": 3,
   "metadata": {},
   "outputs": [],
   "source": [
    "soup     = BeautifulSoup(page.content, 'html.parser')  #Transformamos a un objeto soup"
   ]
  },
  {
   "cell_type": "code",
   "execution_count": 4,
   "metadata": {},
   "outputs": [],
   "source": [
    "job_elems = soup.find_all('ol')                    # Buscamos todos los elementos \"ol\"\n",
    "for job_elem in job_elems:                         # Recorremos\n",
    "    enlaces = job_elem.find_all('a')               # Buscamos los enlaces de ahí"
   ]
  },
  {
   "cell_type": "code",
   "execution_count": 5,
   "metadata": {},
   "outputs": [],
   "source": [
    "reportes_diarios = []\n",
    "base_url         = \"https://seremi9.redsalud.gob.cl\"\n",
    "for enlace in enlaces:                            # Recorremos los enlaces\n",
    "    fecha  = enlace.text                          # obtenemos el texto\n",
    "    enlace = enlace['href']                       # obtenemos el enlace\n",
    "    url    = base_url + enlace\n",
    "    dato   = {'fecha': fecha, 'url':url}\n",
    "    reportes_diarios.append(dato)"
   ]
  },
  {
   "cell_type": "markdown",
   "metadata": {},
   "source": [
    "## Desde ahora trabajamos con los reportes diarios"
   ]
  },
  {
   "cell_type": "code",
   "execution_count": 6,
   "metadata": {},
   "outputs": [],
   "source": [
    "#Esta funcion retornara en un arreglo el texto de la pagina 0 del PDF\n",
    "def get_info(fecha, url):\n",
    "    print (\"Obteniendo información del: \" + fecha)\n",
    "    page      = requests.get(url)                           #Obtenemos la respuesta del servidor\n",
    "    f         = io.BytesIO(page.content)                    #Tenemos el pdf\n",
    "    reader    = PdfFileReader(f)                            #leemos el pf \n",
    "    contenido = reader.getPage(0).extractText().split('\\n') #Tenemos el pdf separado por salto de linea\n",
    "    \n",
    "    \n",
    "    #Filtramos e iteramos los datos\n",
    "    pos_ini   = contenido.index('Angol')\n",
    "    pos_fin   = contenido.index('Total General')\n",
    "    \n",
    "    contenido = contenido[pos_ini:pos_fin]                  # Filtramos con los datos que queremos    \n",
    "    contenido.remove(\"Chol\")\n",
    "    contenido.remove(\"-\")\n",
    "    contenido = [\"Chol-Chol\" if x==\"Chol\" else x for x in contenido] #Cambiamos el nombre de cholchol\n",
    "    \n",
    "    #Eliminamos los espacios en blanco\n",
    "    contenido_filtrado = []\n",
    "    for c in contenido:\n",
    "        if c != \" \":\n",
    "            contenido_filtrado.append(c)\n",
    "    \n",
    "    return contenido_filtrado    "
   ]
  },
  {
   "cell_type": "code",
   "execution_count": 7,
   "metadata": {},
   "outputs": [],
   "source": [
    "# Retornará si el elemento ingresado es una ciudad\n",
    "def is_city(elemento):\n",
    "    bandera  = False\n",
    "    ciudades = ['Angol', 'Carahue', 'Chol-Chol', 'Collipulli', 'Cunco', 'Curacautín', 'Curarrehue', 'Ercilla', 'Freire', 'Galvarino', 'Gorbea', 'Lautaro', 'Loncoche', 'Lonquimay', 'Los Sauces', 'Lumaco',  'Melipeuco', 'Nueva Imperial', 'Padre Las Casas',  'Perquenco', 'Pitrufquén', 'Pucón', 'Renaico',  'Saavedra', 'Temuco', 'Teodoro Schmidt','Toltén', 'Traiguén',  'Victoria', 'Vilcún', 'Villarrica', 'Purén']\n",
    "    if elemento in ciudades:\n",
    "        bandera = True\n",
    "    return bandera"
   ]
  },
  {
   "cell_type": "code",
   "execution_count": 16,
   "metadata": {},
   "outputs": [],
   "source": [
    "#Retornará los datos acumulados de los casos por region\n",
    "def get_data(elemento, f):\n",
    "    datos = [f]\n",
    "    anterior = '' \n",
    "    ciudad   = ''\n",
    "    n = 0\n",
    "    for e in elemento:\n",
    "        if (is_city(e) == False):\n",
    "            anterior += e\n",
    "        else:\n",
    "            if anterior != '':\n",
    "                #print (ciudad + \" : \" + anterior)\n",
    "                datos.append(int(anterior))\n",
    "                anterior = ''\n",
    "        \n",
    "        if is_city(e):\n",
    "            ciudad = e\n",
    "        \n",
    "        ## Eliminamos el error del ultimo elemento\n",
    "        if n == len(elemento)-1:\n",
    "            datos.append(int(anterior))\n",
    "        n += 1    \n",
    "  \n",
    "    return datos"
   ]
  },
  {
   "cell_type": "markdown",
   "metadata": {},
   "source": [
    "La siguiente traerá los nombre de las ciudades que entrega el reporte diario."
   ]
  },
  {
   "cell_type": "code",
   "execution_count": 13,
   "metadata": {},
   "outputs": [
    {
     "name": "stdout",
     "output_type": "stream",
     "text": [
      "Obteniendo información del: 01 de Mayo\n"
     ]
    }
   ],
   "source": [
    "def get_citys(fecha, url):\n",
    "    ciudades = ['Fecha']\n",
    "    data     = get_info(fecha, url)\n",
    "    for d in data:\n",
    "        if is_city(d):\n",
    "            ciudades.append(d)\n",
    "    return ciudades\n",
    "\n",
    "ciudades = get_citys(reportes_diarios[0]['fecha'], reportes_diarios[0]['url'])"
   ]
  },
  {
   "cell_type": "markdown",
   "metadata": {},
   "source": [
    "### Crearemos el dataframe de la región"
   ]
  },
  {
   "cell_type": "code",
   "execution_count": 17,
   "metadata": {},
   "outputs": [
    {
     "data": {
      "text/html": [
       "<div>\n",
       "<style scoped>\n",
       "    .dataframe tbody tr th:only-of-type {\n",
       "        vertical-align: middle;\n",
       "    }\n",
       "\n",
       "    .dataframe tbody tr th {\n",
       "        vertical-align: top;\n",
       "    }\n",
       "\n",
       "    .dataframe thead th {\n",
       "        text-align: right;\n",
       "    }\n",
       "</style>\n",
       "<table border=\"1\" class=\"dataframe\">\n",
       "  <thead>\n",
       "    <tr style=\"text-align: right;\">\n",
       "      <th></th>\n",
       "      <th>Fecha</th>\n",
       "      <th>Angol</th>\n",
       "      <th>Carahue</th>\n",
       "      <th>Chol-Chol</th>\n",
       "      <th>Collipulli</th>\n",
       "      <th>Cunco</th>\n",
       "      <th>Curacautín</th>\n",
       "      <th>Curarrehue</th>\n",
       "      <th>Ercilla</th>\n",
       "      <th>Freire</th>\n",
       "      <th>...</th>\n",
       "      <th>Purén</th>\n",
       "      <th>Renaico</th>\n",
       "      <th>Saavedra</th>\n",
       "      <th>Temuco</th>\n",
       "      <th>Teodoro Schmidt</th>\n",
       "      <th>Toltén</th>\n",
       "      <th>Traiguén</th>\n",
       "      <th>Victoria</th>\n",
       "      <th>Vilcún</th>\n",
       "      <th>Villarrica</th>\n",
       "    </tr>\n",
       "  </thead>\n",
       "  <tbody>\n",
       "  </tbody>\n",
       "</table>\n",
       "<p>0 rows × 33 columns</p>\n",
       "</div>"
      ],
      "text/plain": [
       "Empty DataFrame\n",
       "Columns: [Fecha, Angol, Carahue, Chol-Chol, Collipulli, Cunco, Curacautín, Curarrehue, Ercilla, Freire, Galvarino, Gorbea, Lautaro, Loncoche, Lonquimay, Los Sauces, Lumaco, Melipeuco, Nueva Imperial, Padre Las Casas, Perquenco, Pitrufquén, Pucón, Purén, Renaico, Saavedra, Temuco, Teodoro Schmidt, Toltén, Traiguén, Victoria, Vilcún, Villarrica]\n",
       "Index: []\n",
       "\n",
       "[0 rows x 33 columns]"
      ]
     },
     "execution_count": 17,
     "metadata": {},
     "output_type": "execute_result"
    }
   ],
   "source": [
    "araucania = pd.DataFrame(columns=ciudades)\n",
    "araucania"
   ]
  },
  {
   "cell_type": "markdown",
   "metadata": {},
   "source": [
    "### Llenamos de información el dataframe"
   ]
  },
  {
   "cell_type": "code",
   "execution_count": 18,
   "metadata": {
    "scrolled": true
   },
   "outputs": [
    {
     "name": "stdout",
     "output_type": "stream",
     "text": [
      "Obteniendo información del: 01 de Mayo\n",
      "Obteniendo información del: 02 de Mayo\n",
      "Obteniendo información del: 03 de Mayo\n",
      "Obteniendo información del: 04 de Mayo\n",
      "Obteniendo información del: 05 de Mayo\n",
      "Obteniendo información del: 06 de Mayo\n",
      "Obteniendo información del: 07 de Mayo\n",
      "Obteniendo información del: 08 de Mayo\n",
      "Obteniendo información del: 09 de Mayo\n",
      "Obteniendo información del: 10 de Mayo\n",
      "Obteniendo información del: 11 de Mayo\n",
      "Obteniendo información del: 12 de Mayo\n",
      "Obteniendo información del: 13 de Mayo\n",
      "Obteniendo información del: 14 de Mayo\n",
      "Obteniendo información del: 15 de Mayo\n",
      "Obteniendo información del: 16 de Mayo\n",
      "Obteniendo información del: 17 de Mayo\n",
      "Obteniendo información del: 18 de Mayo\n",
      "Obteniendo información del: 19 de Mayo\n",
      "Obteniendo información del: 20 de Mayo\n",
      "Obteniendo información del: 21 de Mayo\n",
      "Obteniendo información del: 22 de Mayo\n",
      "Obteniendo información del: 23 de Mayo\n",
      "Obteniendo información del: 24 de Mayo\n",
      "Obteniendo información del: 25 de Mayo\n",
      "Obteniendo información del: 26 de Mayo\n",
      "Obteniendo información del: 27 de Mayo\n",
      "Obteniendo información del: 28 de Mayo\n",
      "Obteniendo información del: 29 de Mayo\n",
      "Obteniendo información del: 30 de Mayo\n",
      "Obteniendo información del: 31 de Mayo\n",
      "Obteniendo información del: 01 de Junio\n",
      "Obteniendo información del: 02 de Junio\n",
      "Obteniendo información del: 03 de Junio\n",
      "Obteniendo información del: 04 de Junio\n"
     ]
    }
   ],
   "source": [
    "for r in reportes_diarios:\n",
    "    texto     = get_info(r['fecha'], r['url'])       # Obtenemos el texto de la primera pagina del informe\n",
    "    data      = get_data(texto, r['fecha'])          # Obtenemos la data\n",
    "    araucania.loc[len(araucania)] = data             # Creamos el data frame"
   ]
  },
  {
   "cell_type": "markdown",
   "metadata": {},
   "source": [
    "# Creamos el archivo csv"
   ]
  },
  {
   "cell_type": "code",
   "execution_count": 20,
   "metadata": {},
   "outputs": [],
   "source": [
    "araucania.to_csv(\"output/araucania.csv\", index=False)"
   ]
  }
 ],
 "metadata": {
  "kernelspec": {
   "display_name": "Python 3",
   "language": "python",
   "name": "python3"
  },
  "language_info": {
   "codemirror_mode": {
    "name": "ipython",
    "version": 3
   },
   "file_extension": ".py",
   "mimetype": "text/x-python",
   "name": "python",
   "nbconvert_exporter": "python",
   "pygments_lexer": "ipython3",
   "version": "3.7.4"
  }
 },
 "nbformat": 4,
 "nbformat_minor": 2
}
