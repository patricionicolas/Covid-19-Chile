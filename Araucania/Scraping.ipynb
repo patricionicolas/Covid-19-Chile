{
 "cells": [
  {
   "cell_type": "markdown",
   "metadata": {},
   "source": [
    "# Obtenemos la primera información de toda la región de la Araucania"
   ]
  },
  {
   "cell_type": "code",
   "execution_count": 3,
   "metadata": {},
   "outputs": [],
   "source": [
    "import requests\n",
    "from bs4 import BeautifulSoup"
   ]
  },
  {
   "cell_type": "code",
   "execution_count": 4,
   "metadata": {},
   "outputs": [],
   "source": [
    "URL = 'https://seremi9.redsalud.gob.cl/accion-sanitaria-3/registros-covid19/'\n",
    "page = requests.get(URL) #Obtenemos la respuesta del servidor"
   ]
  },
  {
   "cell_type": "code",
   "execution_count": 58,
   "metadata": {},
   "outputs": [],
   "source": [
    "soup     = BeautifulSoup(page.content, 'html.parser')  #Transformamos a un objeto soup\n",
    "base_url = \"https://seremi9.redsalud.gob.cl\""
   ]
  },
  {
   "cell_type": "code",
   "execution_count": 47,
   "metadata": {},
   "outputs": [],
   "source": [
    "job_elems = soup.find_all('ol')                    # Buscamos todos los elementos \"ol\"\n",
    "for job_elem in job_elems:                         # Recorremos\n",
    "    enlaces = job_elem.find_all('a')               # Buscamos los enlaces de ahí"
   ]
  },
  {
   "cell_type": "code",
   "execution_count": 68,
   "metadata": {},
   "outputs": [
    {
     "name": "stdout",
     "output_type": "stream",
     "text": [
      "01 de Mayo :\n",
      "https://seremi9.redsalud.gob.cl/wrdprss_minsal/wp-content/uploads/2020/05/COMUNICADO-DE-PRENSA-01.05.pdf\n",
      "02 de Mayo :\n",
      "https://seremi9.redsalud.gob.cl/wrdprss_minsal/wp-content/uploads/2020/05/COMUNICADO-DE-PRENSA-02.05.pdf\n",
      "03 de Mayo :\n",
      "https://seremi9.redsalud.gob.cl/wrdprss_minsal/wp-content/uploads/2020/05/COMUNICADO-DE-PRENSA-03.05.pdf\n",
      "04 de Mayo :\n",
      "https://seremi9.redsalud.gob.cl/wrdprss_minsal/wp-content/uploads/2020/05/COMUNICADO-DE-PRENSA-04.05.pdf\n",
      "05 de Mayo :\n",
      "https://seremi9.redsalud.gob.cl/wrdprss_minsal/wp-content/uploads/2020/05/COMUNICADO-DE-PRENSA-05.05.pdf\n",
      "06 de Mayo :\n",
      "https://seremi9.redsalud.gob.cl/wrdprss_minsal/wp-content/uploads/2020/05/COMUNICADO-DE-PRENSA-06.05.pdf\n",
      "07 de Mayo :\n",
      "https://seremi9.redsalud.gob.cl/wrdprss_minsal/wp-content/uploads/2020/05/COMUNICADO-DE-PRENSA-07.05.pdf\n",
      "08 de Mayo :\n",
      "https://seremi9.redsalud.gob.cl/wrdprss_minsal/wp-content/uploads/2020/05/COMUNICADO-DE-PRENSA-08.05.pdf\n",
      "09 de Mayo :\n",
      "https://seremi9.redsalud.gob.cl/wrdprss_minsal/wp-content/uploads/2020/05/COMUNICADO-DE-PRENSA-09.05.pdf\n",
      "10 de Mayo :\n",
      "https://seremi9.redsalud.gob.cl/wrdprss_minsal/wp-content/uploads/2020/05/COMUNICADO-DE-PRENSA-10.05.pdf\n",
      "11 de Mayo :\n",
      "https://seremi9.redsalud.gob.cl/wrdprss_minsal/wp-content/uploads/2020/05/COMUNICADO-DE-PRENSA-11.05.pdf\n",
      "12 de Mayo :\n",
      "https://seremi9.redsalud.gob.cl/wrdprss_minsal/wp-content/uploads/2020/05/COMUNICADO-DE-PRENSA-12.05.pdf\n",
      "13 de Mayo :\n",
      "https://seremi9.redsalud.gob.cl/wrdprss_minsal/wp-content/uploads/2020/05/COMUNICADO-DE-PRENSA-13.05.pdf\n",
      "14 de Mayo :\n",
      "https://seremi9.redsalud.gob.cl/wrdprss_minsal/wp-content/uploads/2020/05/COMUNICADO-DE-PRENSA-14.05.pdf\n",
      "15 de Mayo :\n",
      "https://seremi9.redsalud.gob.cl/wrdprss_minsal/wp-content/uploads/2020/05/COMUNICADO-DE-PRENSA-15.05.pdf\n",
      "16 de Mayo :\n",
      "https://seremi9.redsalud.gob.cl/wrdprss_minsal/wp-content/uploads/2020/05/COMUNICADO-DE-PRENSA-16.05.pdf\n",
      "17 de Mayo :\n",
      "https://seremi9.redsalud.gob.cl/wrdprss_minsal/wp-content/uploads/2020/05/COMUNICADO-DE-PRENSA-17.05.pdf\n",
      "18 de Mayo :\n",
      "https://seremi9.redsalud.gob.cl/wrdprss_minsal/wp-content/uploads/2020/05/COMUNICADO-DE-PRENSA-18.05.pdf\n",
      "19 de Mayo :\n",
      "https://seremi9.redsalud.gob.cl/wrdprss_minsal/wp-content/uploads/2020/05/COMUNICADO-DE-PRENSA-19.05.pdf\n",
      "20 de Mayo :\n",
      "https://seremi9.redsalud.gob.cl/wrdprss_minsal/wp-content/uploads/2020/05/COMUNICADO-DE-PRENSA-20.05.pdf\n",
      "21 de Mayo :\n",
      "https://seremi9.redsalud.gob.cl/wrdprss_minsal/wp-content/uploads/2020/05/COMUNICADO-DE-PRENSA-21.05.pdf\n",
      "22 de Mayo :\n",
      "https://seremi9.redsalud.gob.cl/wrdprss_minsal/wp-content/uploads/2020/05/COMUNICADO-DE-PRENSA-22.05.pdf\n",
      "23 de Mayo :\n",
      "https://seremi9.redsalud.gob.cl/wrdprss_minsal/wp-content/uploads/2020/05/COMUNICADO-DE-PRENSA-23.05.pdf\n",
      "24 de Mayo :\n",
      "https://seremi9.redsalud.gob.cl/wrdprss_minsal/wp-content/uploads/2020/05/COMUNICADO-DE-PRENSA-24.05.pdf\n",
      "25 de Mayo :\n",
      "https://seremi9.redsalud.gob.cl/wrdprss_minsal/wp-content/uploads/2020/05/COMUNICADO-DE-PRENSA-25.05.pdf\n",
      "26 de Mayo :\n",
      "https://seremi9.redsalud.gob.cl/wrdprss_minsal/wp-content/uploads/2020/05/COMUNICADO-DE-PRENSA-26.05.pdf\n",
      "27 de Mayo :\n",
      "https://seremi9.redsalud.gob.cl/wrdprss_minsal/wp-content/uploads/2020/05/COMUNICADO-DE-PRENSA-27.05.pdf\n",
      "28 de Mayo :\n",
      "https://seremi9.redsalud.gob.cl/wrdprss_minsal/wp-content/uploads/2020/05/COMUNICADO-DE-PRENSA-28.05.pdf\n",
      "29 de Mayo :\n",
      "https://seremi9.redsalud.gob.cl/wrdprss_minsal/wp-content/uploads/2020/05/COMUNICADO-DE-PRENSA-29.05.pdf\n",
      "30 de Mayo :\n",
      "https://seremi9.redsalud.gob.cl/wrdprss_minsal/wp-content/uploads/2020/05/COMUNICADO-DE-PRENSA-30.05.pdf\n"
     ]
    }
   ],
   "source": [
    "for enlace in enlaces:                            # Recorremos los enlaces\n",
    "    fecha  = enlace.text                          # obtenemos el texto\n",
    "    enlace = enlace['href']                       # obtenemos el enlace\n",
    "    url    = base_url + enlace\n",
    "    print (fecha , \":\") \n",
    "    print (url)"
   ]
  }
 ],
 "metadata": {
  "kernelspec": {
   "display_name": "Python 3",
   "language": "python",
   "name": "python3"
  },
  "language_info": {
   "codemirror_mode": {
    "name": "ipython",
    "version": 3
   },
   "file_extension": ".py",
   "mimetype": "text/x-python",
   "name": "python",
   "nbconvert_exporter": "python",
   "pygments_lexer": "ipython3",
   "version": "3.7.4"
  }
 },
 "nbformat": 4,
 "nbformat_minor": 2
}
